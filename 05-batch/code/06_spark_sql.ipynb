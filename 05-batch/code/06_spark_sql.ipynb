{
 "cells": [
  {
   "cell_type": "markdown",
   "id": "39d16b4f-e895-4906-88ab-ded0a525787a",
   "metadata": {},
   "source": [
    "# Spark SQL\n",
    "- Create report for monthly revenue"
   ]
  },
  {
   "cell_type": "code",
   "execution_count": 19,
   "id": "c2d19fee-516b-40d0-92b8-259fbc356f82",
   "metadata": {},
   "outputs": [],
   "source": [
    "import pyspark\n",
    "from pyspark.sql import SparkSession\n",
    "\n",
    "spark = SparkSession.builder \\\n",
    "    .master(\"local[*]\") \\\n",
    "    .appName('test') \\\n",
    "    .getOrCreate()"
   ]
  },
  {
   "cell_type": "code",
   "execution_count": 21,
   "id": "46cb6629-a178-476a-a0e5-39edb8d921f2",
   "metadata": {},
   "outputs": [],
   "source": [
    "df_green = spark.read.parquet('data/pq/green/*/*')"
   ]
  },
  {
   "cell_type": "code",
   "execution_count": 22,
   "id": "f472d73f-d65f-4ab8-b34f-dd0b8e1d68cb",
   "metadata": {},
   "outputs": [
    {
     "name": "stdout",
     "output_type": "stream",
     "text": [
      "+--------+--------------------+---------------------+------------------+----------+------------+------------+---------------+-------------+-----------+-----+-------+----------+------------+---------+---------------------+------------+------------+---------+--------------------+\n",
      "|VendorID|lpep_pickup_datetime|lpep_dropoff_datetime|store_and_fwd_flag|RatecodeID|PULocationID|DOLocationID|passenger_count|trip_distance|fare_amount|extra|mta_tax|tip_amount|tolls_amount|ehail_fee|improvement_surcharge|total_amount|payment_type|trip_type|congestion_surcharge|\n",
      "+--------+--------------------+---------------------+------------------+----------+------------+------------+---------------+-------------+-----------+-----+-------+----------+------------+---------+---------------------+------------+------------+---------+--------------------+\n",
      "|       2| 2020-01-23 13:10:15|  2020-01-23 13:38:16|                 N|         1|          74|         130|              1|        12.77|       36.0|  0.0|    0.5|      2.05|        6.12|     NULL|                  0.3|       44.97|           1|        1|                 0.0|\n",
      "|    NULL| 2020-01-20 15:09:00|  2020-01-20 15:46:00|              NULL|      NULL|          67|          39|           NULL|          8.0|       29.9| 2.75|    0.5|       0.0|         0.0|     NULL|                  0.3|       33.45|        NULL|     NULL|                NULL|\n",
      "|       2| 2020-01-15 20:23:41|  2020-01-15 20:31:18|                 N|         1|         260|         157|              1|         1.27|        7.0|  0.5|    0.5|       0.0|         0.0|     NULL|                  0.3|         8.3|           2|        1|                 0.0|\n",
      "|       2| 2020-01-05 16:32:26|  2020-01-05 16:40:51|                 N|         1|          82|          83|              1|         1.25|        7.5|  0.0|    0.5|       0.0|         0.0|     NULL|                  0.3|         8.3|           2|        1|                 0.0|\n",
      "|       2| 2020-01-29 19:22:42|  2020-01-29 19:31:02|                 N|         1|         166|          42|              1|         1.84|        8.0|  1.0|    0.5|      2.94|         0.0|     NULL|                  0.3|       12.74|           1|        1|                 0.0|\n",
      "|       2| 2020-01-15 11:07:42|  2020-01-15 11:11:31|                 N|         1|         179|         223|              2|         0.76|        5.0|  0.0|    0.5|       0.0|         0.0|     NULL|                  0.3|         5.8|           2|        1|                 0.0|\n",
      "|       2| 2020-01-16 08:22:29|  2020-01-16 08:50:24|                 N|         1|          41|         237|              1|         3.32|       18.5|  0.0|    0.5|       3.0|         0.0|     NULL|                  0.3|       25.05|           1|        1|                2.75|\n",
      "|       2| 2020-01-28 17:05:28|  2020-01-28 17:26:11|                 N|         1|          75|         161|              1|         2.21|       14.0|  1.0|    0.5|      2.78|         0.0|     NULL|                  0.3|       21.33|           1|        1|                2.75|\n",
      "|       1| 2020-01-22 14:51:37|  2020-01-22 14:57:29|                 N|         1|         152|         166|              1|          0.9|        6.0|  0.0|    0.5|       1.0|         0.0|     NULL|                  0.3|         7.8|           1|        1|                 0.0|\n",
      "|       2| 2020-01-31 10:25:04|  2020-01-31 10:52:13|                 N|         1|          75|         234|              1|          6.1|       22.5|  0.0|    0.5|       0.0|         0.0|     NULL|                  0.3|       26.05|           2|        1|                2.75|\n",
      "|       2| 2020-01-20 15:50:54|  2020-01-20 16:00:06|                 N|         1|          75|          41|              1|         1.74|        8.0|  0.0|    0.5|      1.76|         0.0|     NULL|                  0.3|       10.56|           1|        1|                 0.0|\n",
      "|       2| 2020-01-31 11:35:17|  2020-01-31 11:44:29|                 N|         1|         260|         226|              5|         1.18|        7.5|  0.0|    0.5|       0.0|         0.0|     NULL|                  0.3|         8.3|           2|        1|                 0.0|\n",
      "|       1| 2020-01-04 20:44:28|  2020-01-04 20:52:24|                 N|         1|         129|         129|              1|          2.2|        9.5|  0.5|    0.5|       2.0|         0.0|     NULL|                  0.3|        12.8|           1|        1|                 0.0|\n",
      "|       2| 2020-01-17 21:47:52|  2020-01-17 22:00:07|                 N|         1|          74|         126|              1|         3.04|       12.0|  0.5|    0.5|       0.0|         0.0|     NULL|                  0.3|        13.3|           2|        1|                 0.0|\n",
      "|       2| 2020-01-21 23:13:47|  2020-01-21 23:17:31|                 N|         1|          61|          61|              1|         0.85|        5.0|  0.5|    0.5|       0.0|         0.0|     NULL|                  0.3|         6.3|           2|        1|                 0.0|\n",
      "|       2| 2020-01-02 08:11:21|  2020-01-02 08:32:05|                 N|         1|          66|         164|              1|         5.06|       18.5|  0.0|    0.5|       1.5|         0.0|     NULL|                  0.3|       23.55|           1|        1|                2.75|\n",
      "|       2| 2020-01-27 02:59:20|  2020-01-27 03:05:18|                 N|         1|           7|         179|              1|         1.57|        6.5|  0.5|    0.5|       0.0|         0.0|     NULL|                  0.3|         7.8|           2|        1|                 0.0|\n",
      "|       2| 2020-01-16 14:39:13|  2020-01-16 15:19:56|                 N|         1|          74|         243|              1|          6.8|       29.5|  0.0|    0.5|       0.0|         0.0|     NULL|                  0.3|        30.3|           1|        1|                 0.0|\n",
      "|       2| 2020-01-16 18:42:24|  2020-01-16 18:47:59|                 N|         1|          66|          97|              2|         1.06|        6.0|  1.0|    0.5|      1.56|         0.0|     NULL|                  0.3|        9.36|           1|        1|                 0.0|\n",
      "|       2| 2020-01-03 09:24:54|  2020-01-03 09:33:14|                 N|         1|          61|         225|              1|         1.23|        7.0|  0.0|    0.5|       0.0|         0.0|     NULL|                  0.3|         7.8|           1|        1|                 0.0|\n",
      "+--------+--------------------+---------------------+------------------+----------+------------+------------+---------------+-------------+-----------+-----+-------+----------+------------+---------+---------------------+------------+------------+---------+--------------------+\n",
      "only showing top 20 rows\n",
      "\n"
     ]
    }
   ],
   "source": [
    "df_green.show()"
   ]
  },
  {
   "cell_type": "code",
   "execution_count": 23,
   "id": "1806e29e-6d4c-4c87-a2f2-f33fd5f3a65f",
   "metadata": {},
   "outputs": [
    {
     "name": "stdout",
     "output_type": "stream",
     "text": [
      "root\n",
      " |-- VendorID: integer (nullable = true)\n",
      " |-- lpep_pickup_datetime: timestamp (nullable = true)\n",
      " |-- lpep_dropoff_datetime: timestamp (nullable = true)\n",
      " |-- store_and_fwd_flag: string (nullable = true)\n",
      " |-- RatecodeID: integer (nullable = true)\n",
      " |-- PULocationID: integer (nullable = true)\n",
      " |-- DOLocationID: integer (nullable = true)\n",
      " |-- passenger_count: integer (nullable = true)\n",
      " |-- trip_distance: double (nullable = true)\n",
      " |-- fare_amount: double (nullable = true)\n",
      " |-- extra: double (nullable = true)\n",
      " |-- mta_tax: double (nullable = true)\n",
      " |-- tip_amount: double (nullable = true)\n",
      " |-- tolls_amount: double (nullable = true)\n",
      " |-- ehail_fee: string (nullable = true)\n",
      " |-- improvement_surcharge: double (nullable = true)\n",
      " |-- total_amount: double (nullable = true)\n",
      " |-- payment_type: integer (nullable = true)\n",
      " |-- trip_type: integer (nullable = true)\n",
      " |-- congestion_surcharge: double (nullable = true)\n",
      "\n"
     ]
    }
   ],
   "source": [
    "df_green.printSchema()"
   ]
  },
  {
   "cell_type": "code",
   "execution_count": 25,
   "id": "fba2712e-60cd-46be-addc-52176351edab",
   "metadata": {},
   "outputs": [],
   "source": [
    "df_yellow = spark.read.parquet('data/pq/yellow/*/*')"
   ]
  },
  {
   "cell_type": "code",
   "execution_count": 26,
   "id": "e2a8ba5d-9bd2-4af5-a1bf-6f412099b103",
   "metadata": {},
   "outputs": [
    {
     "name": "stdout",
     "output_type": "stream",
     "text": [
      "+--------+--------------------+---------------------+---------------+-------------+----------+------------------+------------+------------+------------+-----------+-----+-------+----------+------------+---------------------+------------+--------------------+\n",
      "|VendorID|tpep_pickup_datetime|tpep_dropoff_datetime|passenger_count|trip_distance|RatecodeID|store_and_fwd_flag|PULocationID|DOLocationID|payment_type|fare_amount|extra|mta_tax|tip_amount|tolls_amount|improvement_surcharge|total_amount|congestion_surcharge|\n",
      "+--------+--------------------+---------------------+---------------+-------------+----------+------------------+------------+------------+------------+-----------+-----+-------+----------+------------+---------------------+------------+--------------------+\n",
      "|       2| 2020-01-06 09:18:38|  2020-01-06 09:33:56|              1|         3.03|         1|                 N|         263|         233|           1|       12.0|  0.0|    0.5|       1.5|         0.0|                  0.3|        16.8|                 2.5|\n",
      "|       2| 2020-01-08 18:55:19|  2020-01-08 18:58:38|              1|          0.4|         1|                 N|         234|         107|           1|        4.0|  1.0|    0.5|      1.66|         0.0|                  0.3|        9.96|                 2.5|\n",
      "|       2| 2020-01-16 12:11:53|  2020-01-16 12:42:44|              1|         2.46|         1|                 N|          68|         229|           1|       19.0|  0.0|    0.5|      4.46|         0.0|                  0.3|       26.76|                 2.5|\n",
      "|       2| 2020-01-11 01:55:59|  2020-01-11 02:03:21|              6|          1.9|         1|                 N|         230|          90|           1|        8.0|  0.5|    0.5|      2.36|         0.0|                  0.3|       14.16|                 2.5|\n",
      "|       2| 2020-01-01 21:31:48|  2020-01-01 21:36:01|              1|         0.77|         1|                 N|         238|         239|           1|        5.0|  0.5|    0.5|      1.76|         0.0|                  0.3|       10.56|                 2.5|\n",
      "|       2| 2020-01-14 11:51:02|  2020-01-14 12:01:14|              1|         1.55|         1|                 N|         163|         230|           1|        8.5|  0.0|    0.5|       0.5|         0.0|                  0.3|        12.3|                 2.5|\n",
      "|       2| 2020-01-26 19:15:51|  2020-01-26 19:30:13|              1|         2.53|         1|                 N|         170|         236|           2|       12.0|  0.0|    0.5|       0.0|         0.0|                  0.3|        15.3|                 2.5|\n",
      "|       1| 2020-01-23 08:06:15|  2020-01-23 08:16:14|              3|          1.7|         1|                 N|         163|          68|           1|        8.5|  2.5|    0.5|      2.95|         0.0|                  0.3|       14.75|                 2.5|\n",
      "|       1| 2020-01-18 18:50:47|  2020-01-18 19:03:13|              2|          0.8|         1|                 N|         234|         186|           2|        9.0|  2.5|    0.5|       0.0|         0.0|                  0.3|        12.3|                 2.5|\n",
      "|       2| 2020-01-26 16:08:15|  2020-01-26 16:27:05|              1|         1.72|         1|                 N|         237|         162|           2|       12.5|  0.0|    0.5|       0.0|         0.0|                  0.3|        15.8|                 2.5|\n",
      "|       2| 2020-01-20 22:50:00|  2020-01-20 23:21:42|              1|        11.32|         1|                 N|         138|         239|           1|       35.0|  0.5|    0.5|      8.98|        6.12|                  0.3|        53.9|                 2.5|\n",
      "|       1| 2020-01-15 23:05:17|  2020-01-15 23:27:28|              1|          6.6|         1|                 N|         125|         151|           1|       23.0|  3.0|    0.5|       3.0|         0.0|                  0.3|        29.8|                 2.5|\n",
      "|       2| 2020-01-24 08:02:45|  2020-01-24 08:10:58|              1|         1.18|         1|                 N|         170|         161|           1|        7.0|  0.0|    0.5|      2.06|         0.0|                  0.3|       12.36|                 2.5|\n",
      "|       2| 2020-01-08 19:24:16|  2020-01-08 19:32:17|              2|         1.23|         1|                 N|         234|         249|           1|        7.0|  1.0|    0.5|      2.26|         0.0|                  0.3|       13.56|                 2.5|\n",
      "|       2| 2020-01-25 08:28:20|  2020-01-25 08:32:30|              2|         0.65|         1|                 N|         237|         140|           1|        5.0|  0.0|    0.5|       1.0|         0.0|                  0.3|         9.3|                 2.5|\n",
      "|       1| 2020-01-11 16:43:09|  2020-01-11 17:00:42|              1|          1.7|         1|                 N|         186|         113|           1|       11.5|  2.5|    0.5|      2.22|         0.0|                  0.3|       17.02|                 2.5|\n",
      "|       1| 2020-01-07 12:32:34|  2020-01-07 12:43:03|              1|          1.4|         1|                 N|         234|         246|           1|        8.5|  2.5|    0.5|      2.35|         0.0|                  0.3|       14.15|                 2.5|\n",
      "|       2| 2020-01-06 11:57:13|  2020-01-06 12:05:37|              1|         2.23|         1|                 N|         263|          74|           2|        9.0|  0.0|    0.5|       0.0|         0.0|                  0.3|        12.3|                 2.5|\n",
      "|       1| 2020-01-20 21:57:49|  2020-01-20 22:03:45|              1|          1.4|         1|                 N|         231|         113|           1|        6.5|  3.0|    0.5|       1.0|         0.0|                  0.3|        11.3|                 2.5|\n",
      "|       2| 2020-01-07 18:23:35|  2020-01-07 18:31:25|              2|         1.04|         1|                 N|         211|          79|           1|        7.0|  1.0|    0.5|      2.26|         0.0|                  0.3|       13.56|                 2.5|\n",
      "+--------+--------------------+---------------------+---------------+-------------+----------+------------------+------------+------------+------------+-----------+-----+-------+----------+------------+---------------------+------------+--------------------+\n",
      "only showing top 20 rows\n",
      "\n"
     ]
    }
   ],
   "source": [
    "df_yellow.show()"
   ]
  },
  {
   "cell_type": "code",
   "execution_count": 27,
   "id": "705e20fe-0301-4c4d-aa75-2e1011b4b471",
   "metadata": {},
   "outputs": [
    {
     "name": "stdout",
     "output_type": "stream",
     "text": [
      "root\n",
      " |-- VendorID: integer (nullable = true)\n",
      " |-- tpep_pickup_datetime: timestamp (nullable = true)\n",
      " |-- tpep_dropoff_datetime: timestamp (nullable = true)\n",
      " |-- passenger_count: integer (nullable = true)\n",
      " |-- trip_distance: double (nullable = true)\n",
      " |-- RatecodeID: integer (nullable = true)\n",
      " |-- store_and_fwd_flag: string (nullable = true)\n",
      " |-- PULocationID: integer (nullable = true)\n",
      " |-- DOLocationID: integer (nullable = true)\n",
      " |-- payment_type: integer (nullable = true)\n",
      " |-- fare_amount: double (nullable = true)\n",
      " |-- extra: double (nullable = true)\n",
      " |-- mta_tax: double (nullable = true)\n",
      " |-- tip_amount: double (nullable = true)\n",
      " |-- tolls_amount: double (nullable = true)\n",
      " |-- improvement_surcharge: double (nullable = true)\n",
      " |-- total_amount: double (nullable = true)\n",
      " |-- congestion_surcharge: double (nullable = true)\n",
      "\n"
     ]
    }
   ],
   "source": [
    "df_yellow.printSchema()"
   ]
  },
  {
   "cell_type": "markdown",
   "id": "72c157a0-a5c5-4e52-8a2f-5082526a17e9",
   "metadata": {},
   "source": [
    "### Combine 2 df into 1"
   ]
  },
  {
   "cell_type": "code",
   "execution_count": 28,
   "id": "77881a31-ef79-4b06-b2b8-63a058fdd252",
   "metadata": {},
   "outputs": [
    {
     "data": {
      "text/plain": [
       "['VendorID',\n",
       " 'lpep_pickup_datetime',\n",
       " 'lpep_dropoff_datetime',\n",
       " 'store_and_fwd_flag',\n",
       " 'RatecodeID',\n",
       " 'PULocationID',\n",
       " 'DOLocationID',\n",
       " 'passenger_count',\n",
       " 'trip_distance',\n",
       " 'fare_amount',\n",
       " 'extra',\n",
       " 'mta_tax',\n",
       " 'tip_amount',\n",
       " 'tolls_amount',\n",
       " 'ehail_fee',\n",
       " 'improvement_surcharge',\n",
       " 'total_amount',\n",
       " 'payment_type',\n",
       " 'trip_type',\n",
       " 'congestion_surcharge']"
      ]
     },
     "execution_count": 28,
     "metadata": {},
     "output_type": "execute_result"
    }
   ],
   "source": [
    "df_green.columns"
   ]
  },
  {
   "cell_type": "code",
   "execution_count": 30,
   "id": "32c9df12-aed6-4d07-93e4-3de50ce37374",
   "metadata": {},
   "outputs": [
    {
     "data": {
      "text/plain": [
       "['VendorID',\n",
       " 'tpep_pickup_datetime',\n",
       " 'tpep_dropoff_datetime',\n",
       " 'passenger_count',\n",
       " 'trip_distance',\n",
       " 'RatecodeID',\n",
       " 'store_and_fwd_flag',\n",
       " 'PULocationID',\n",
       " 'DOLocationID',\n",
       " 'payment_type',\n",
       " 'fare_amount',\n",
       " 'extra',\n",
       " 'mta_tax',\n",
       " 'tip_amount',\n",
       " 'tolls_amount',\n",
       " 'improvement_surcharge',\n",
       " 'total_amount',\n",
       " 'congestion_surcharge']"
      ]
     },
     "execution_count": 30,
     "metadata": {},
     "output_type": "execute_result"
    }
   ],
   "source": [
    "df_yellow.columns"
   ]
  },
  {
   "cell_type": "code",
   "execution_count": 32,
   "id": "494c1433-3247-4903-bb10-3680746b9ebb",
   "metadata": {},
   "outputs": [],
   "source": [
    "# rename columns\n",
    "df_green = df_green \\\n",
    "    .withColumnRenamed('lpep_pickup_datetime', 'pickup_datetime') \\\n",
    "    .withColumnRenamed('lpep_dropoff_datetime', 'dropoff_datetime')"
   ]
  },
  {
   "cell_type": "code",
   "execution_count": 33,
   "id": "6168c34f-7bfb-4d03-90a0-97eb1cd74c7d",
   "metadata": {},
   "outputs": [
    {
     "data": {
      "text/plain": [
       "['VendorID',\n",
       " 'pickup_datetime',\n",
       " 'dropoff_datetime',\n",
       " 'store_and_fwd_flag',\n",
       " 'RatecodeID',\n",
       " 'PULocationID',\n",
       " 'DOLocationID',\n",
       " 'passenger_count',\n",
       " 'trip_distance',\n",
       " 'fare_amount',\n",
       " 'extra',\n",
       " 'mta_tax',\n",
       " 'tip_amount',\n",
       " 'tolls_amount',\n",
       " 'ehail_fee',\n",
       " 'improvement_surcharge',\n",
       " 'total_amount',\n",
       " 'payment_type',\n",
       " 'trip_type',\n",
       " 'congestion_surcharge']"
      ]
     },
     "execution_count": 33,
     "metadata": {},
     "output_type": "execute_result"
    }
   ],
   "source": [
    "df_green.columns"
   ]
  },
  {
   "cell_type": "code",
   "execution_count": 34,
   "id": "d5c26a79-aeba-46ba-b960-a176a81824e0",
   "metadata": {},
   "outputs": [],
   "source": [
    "# rename columns\n",
    "df_yellow = df_yellow \\\n",
    "    .withColumnRenamed('tpep_pickup_datetime', 'pickup_datetime') \\\n",
    "    .withColumnRenamed('tpep_dropoff_datetime', 'dropoff_datetime')"
   ]
  },
  {
   "cell_type": "code",
   "execution_count": 35,
   "id": "3469db53-3b77-44aa-b240-dbb49363a8c7",
   "metadata": {},
   "outputs": [
    {
     "data": {
      "text/plain": [
       "['VendorID',\n",
       " 'pickup_datetime',\n",
       " 'dropoff_datetime',\n",
       " 'passenger_count',\n",
       " 'trip_distance',\n",
       " 'RatecodeID',\n",
       " 'store_and_fwd_flag',\n",
       " 'PULocationID',\n",
       " 'DOLocationID',\n",
       " 'payment_type',\n",
       " 'fare_amount',\n",
       " 'extra',\n",
       " 'mta_tax',\n",
       " 'tip_amount',\n",
       " 'tolls_amount',\n",
       " 'improvement_surcharge',\n",
       " 'total_amount',\n",
       " 'congestion_surcharge']"
      ]
     },
     "execution_count": 35,
     "metadata": {},
     "output_type": "execute_result"
    }
   ],
   "source": [
    "df_yellow.columns"
   ]
  },
  {
   "cell_type": "code",
   "execution_count": 36,
   "id": "ebb4b0cc-6f33-49d4-afb5-e177c465034c",
   "metadata": {},
   "outputs": [
    {
     "data": {
      "text/plain": [
       "{'DOLocationID',\n",
       " 'PULocationID',\n",
       " 'RatecodeID',\n",
       " 'VendorID',\n",
       " 'congestion_surcharge',\n",
       " 'dropoff_datetime',\n",
       " 'extra',\n",
       " 'fare_amount',\n",
       " 'improvement_surcharge',\n",
       " 'mta_tax',\n",
       " 'passenger_count',\n",
       " 'payment_type',\n",
       " 'pickup_datetime',\n",
       " 'store_and_fwd_flag',\n",
       " 'tip_amount',\n",
       " 'tolls_amount',\n",
       " 'total_amount',\n",
       " 'trip_distance'}"
      ]
     },
     "execution_count": 36,
     "metadata": {},
     "output_type": "execute_result"
    }
   ],
   "source": [
    "# Find common columns\n",
    "set(df_green.columns) & set(df_yellow.columns)"
   ]
  },
  {
   "cell_type": "code",
   "execution_count": 37,
   "id": "c31aed6b-a4c8-4b66-ac30-253155694456",
   "metadata": {},
   "outputs": [],
   "source": [
    "# preserve column order\n",
    "\n",
    "common_columns = []\n",
    "\n",
    "yellow_columns = set(df_yellow.columns)\n",
    "\n",
    "for col in df_green.columns:\n",
    "    if col in yellow_columns:\n",
    "        common_columns.append(col)"
   ]
  },
  {
   "cell_type": "code",
   "execution_count": 38,
   "id": "14bafa9a-3b38-4ec4-9cc4-f2b74a075494",
   "metadata": {},
   "outputs": [
    {
     "data": {
      "text/plain": [
       "['VendorID',\n",
       " 'pickup_datetime',\n",
       " 'dropoff_datetime',\n",
       " 'store_and_fwd_flag',\n",
       " 'RatecodeID',\n",
       " 'PULocationID',\n",
       " 'DOLocationID',\n",
       " 'passenger_count',\n",
       " 'trip_distance',\n",
       " 'fare_amount',\n",
       " 'extra',\n",
       " 'mta_tax',\n",
       " 'tip_amount',\n",
       " 'tolls_amount',\n",
       " 'improvement_surcharge',\n",
       " 'total_amount',\n",
       " 'payment_type',\n",
       " 'congestion_surcharge']"
      ]
     },
     "execution_count": 38,
     "metadata": {},
     "output_type": "execute_result"
    }
   ],
   "source": [
    "common_columns"
   ]
  },
  {
   "cell_type": "code",
   "execution_count": 39,
   "id": "dd6c2711-3f9e-4425-b1ff-96febdaea661",
   "metadata": {},
   "outputs": [
    {
     "name": "stdout",
     "output_type": "stream",
     "text": [
      "+--------+-------------------+-------------------+------------------+----------+------------+------------+---------------+-------------+-----------+-----+-------+----------+------------+---------------------+------------+------------+--------------------+\n",
      "|VendorID|    pickup_datetime|   dropoff_datetime|store_and_fwd_flag|RatecodeID|PULocationID|DOLocationID|passenger_count|trip_distance|fare_amount|extra|mta_tax|tip_amount|tolls_amount|improvement_surcharge|total_amount|payment_type|congestion_surcharge|\n",
      "+--------+-------------------+-------------------+------------------+----------+------------+------------+---------------+-------------+-----------+-----+-------+----------+------------+---------------------+------------+------------+--------------------+\n",
      "|       2|2020-01-23 13:10:15|2020-01-23 13:38:16|                 N|         1|          74|         130|              1|        12.77|       36.0|  0.0|    0.5|      2.05|        6.12|                  0.3|       44.97|           1|                 0.0|\n",
      "|    NULL|2020-01-20 15:09:00|2020-01-20 15:46:00|              NULL|      NULL|          67|          39|           NULL|          8.0|       29.9| 2.75|    0.5|       0.0|         0.0|                  0.3|       33.45|        NULL|                NULL|\n",
      "|       2|2020-01-15 20:23:41|2020-01-15 20:31:18|                 N|         1|         260|         157|              1|         1.27|        7.0|  0.5|    0.5|       0.0|         0.0|                  0.3|         8.3|           2|                 0.0|\n",
      "|       2|2020-01-05 16:32:26|2020-01-05 16:40:51|                 N|         1|          82|          83|              1|         1.25|        7.5|  0.0|    0.5|       0.0|         0.0|                  0.3|         8.3|           2|                 0.0|\n",
      "|       2|2020-01-29 19:22:42|2020-01-29 19:31:02|                 N|         1|         166|          42|              1|         1.84|        8.0|  1.0|    0.5|      2.94|         0.0|                  0.3|       12.74|           1|                 0.0|\n",
      "|       2|2020-01-15 11:07:42|2020-01-15 11:11:31|                 N|         1|         179|         223|              2|         0.76|        5.0|  0.0|    0.5|       0.0|         0.0|                  0.3|         5.8|           2|                 0.0|\n",
      "|       2|2020-01-16 08:22:29|2020-01-16 08:50:24|                 N|         1|          41|         237|              1|         3.32|       18.5|  0.0|    0.5|       3.0|         0.0|                  0.3|       25.05|           1|                2.75|\n",
      "|       2|2020-01-28 17:05:28|2020-01-28 17:26:11|                 N|         1|          75|         161|              1|         2.21|       14.0|  1.0|    0.5|      2.78|         0.0|                  0.3|       21.33|           1|                2.75|\n",
      "|       1|2020-01-22 14:51:37|2020-01-22 14:57:29|                 N|         1|         152|         166|              1|          0.9|        6.0|  0.0|    0.5|       1.0|         0.0|                  0.3|         7.8|           1|                 0.0|\n",
      "|       2|2020-01-31 10:25:04|2020-01-31 10:52:13|                 N|         1|          75|         234|              1|          6.1|       22.5|  0.0|    0.5|       0.0|         0.0|                  0.3|       26.05|           2|                2.75|\n",
      "|       2|2020-01-20 15:50:54|2020-01-20 16:00:06|                 N|         1|          75|          41|              1|         1.74|        8.0|  0.0|    0.5|      1.76|         0.0|                  0.3|       10.56|           1|                 0.0|\n",
      "|       2|2020-01-31 11:35:17|2020-01-31 11:44:29|                 N|         1|         260|         226|              5|         1.18|        7.5|  0.0|    0.5|       0.0|         0.0|                  0.3|         8.3|           2|                 0.0|\n",
      "|       1|2020-01-04 20:44:28|2020-01-04 20:52:24|                 N|         1|         129|         129|              1|          2.2|        9.5|  0.5|    0.5|       2.0|         0.0|                  0.3|        12.8|           1|                 0.0|\n",
      "|       2|2020-01-17 21:47:52|2020-01-17 22:00:07|                 N|         1|          74|         126|              1|         3.04|       12.0|  0.5|    0.5|       0.0|         0.0|                  0.3|        13.3|           2|                 0.0|\n",
      "|       2|2020-01-21 23:13:47|2020-01-21 23:17:31|                 N|         1|          61|          61|              1|         0.85|        5.0|  0.5|    0.5|       0.0|         0.0|                  0.3|         6.3|           2|                 0.0|\n",
      "|       2|2020-01-02 08:11:21|2020-01-02 08:32:05|                 N|         1|          66|         164|              1|         5.06|       18.5|  0.0|    0.5|       1.5|         0.0|                  0.3|       23.55|           1|                2.75|\n",
      "|       2|2020-01-27 02:59:20|2020-01-27 03:05:18|                 N|         1|           7|         179|              1|         1.57|        6.5|  0.5|    0.5|       0.0|         0.0|                  0.3|         7.8|           2|                 0.0|\n",
      "|       2|2020-01-16 14:39:13|2020-01-16 15:19:56|                 N|         1|          74|         243|              1|          6.8|       29.5|  0.0|    0.5|       0.0|         0.0|                  0.3|        30.3|           1|                 0.0|\n",
      "|       2|2020-01-16 18:42:24|2020-01-16 18:47:59|                 N|         1|          66|          97|              2|         1.06|        6.0|  1.0|    0.5|      1.56|         0.0|                  0.3|        9.36|           1|                 0.0|\n",
      "|       2|2020-01-03 09:24:54|2020-01-03 09:33:14|                 N|         1|          61|         225|              1|         1.23|        7.0|  0.0|    0.5|       0.0|         0.0|                  0.3|         7.8|           1|                 0.0|\n",
      "+--------+-------------------+-------------------+------------------+----------+------------+------------+---------------+-------------+-----------+-----+-------+----------+------------+---------------------+------------+------------+--------------------+\n",
      "only showing top 20 rows\n",
      "\n"
     ]
    }
   ],
   "source": [
    "# select columns\n",
    "df_green.select(common_columns).show()"
   ]
  },
  {
   "cell_type": "code",
   "execution_count": 40,
   "id": "3a06421c-511a-4dc6-8b2b-2641faecd3e9",
   "metadata": {},
   "outputs": [],
   "source": [
    "# add service_type column\n",
    "from pyspark.sql import functions as F"
   ]
  },
  {
   "cell_type": "code",
   "execution_count": 41,
   "id": "4e032e6a-35c9-46b9-a697-c05cf57b8549",
   "metadata": {},
   "outputs": [
    {
     "data": {
      "text/plain": [
       "DataFrame[VendorID: int, pickup_datetime: timestamp, dropoff_datetime: timestamp, store_and_fwd_flag: string, RatecodeID: int, PULocationID: int, DOLocationID: int, passenger_count: int, trip_distance: double, fare_amount: double, extra: double, mta_tax: double, tip_amount: double, tolls_amount: double, improvement_surcharge: double, total_amount: double, payment_type: int, congestion_surcharge: double, service_type: string]"
      ]
     },
     "execution_count": 41,
     "metadata": {},
     "output_type": "execute_result"
    }
   ],
   "source": [
    "df_green \\\n",
    "    .select(common_columns) \\\n",
    "    .withColumn('service_type', F.lit('green'))"
   ]
  },
  {
   "cell_type": "code",
   "execution_count": 42,
   "id": "ca06df55-7b7b-4763-8e84-b479d9b918bd",
   "metadata": {},
   "outputs": [],
   "source": [
    "df_green_sel = df_green \\\n",
    "    .select(common_columns) \\\n",
    "    .withColumn('service_type', F.lit('green'))"
   ]
  },
  {
   "cell_type": "code",
   "execution_count": 43,
   "id": "899d69a4-8cef-4d40-89ee-dc8a169ad76c",
   "metadata": {},
   "outputs": [],
   "source": [
    "df_yellow_sel = df_yellow \\\n",
    "    .select(common_columns) \\\n",
    "    .withColumn('service_type', F.lit('yellow'))"
   ]
  },
  {
   "cell_type": "code",
   "execution_count": 47,
   "id": "49923ad9-ace1-407f-8e2a-e9ff0335b68f",
   "metadata": {},
   "outputs": [
    {
     "data": {
      "text/plain": [
       "Row(VendorID=2, pickup_datetime=datetime.datetime(2020, 1, 23, 13, 10, 15), dropoff_datetime=datetime.datetime(2020, 1, 23, 13, 38, 16), store_and_fwd_flag='N', RatecodeID=1, PULocationID=74, DOLocationID=130, passenger_count=1, trip_distance=12.77, fare_amount=36.0, extra=0.0, mta_tax=0.5, tip_amount=2.05, tolls_amount=6.12, improvement_surcharge=0.3, total_amount=44.97, payment_type=1, congestion_surcharge=0.0, service_type='green')"
      ]
     },
     "execution_count": 47,
     "metadata": {},
     "output_type": "execute_result"
    }
   ],
   "source": [
    "df_green_sel.head()"
   ]
  },
  {
   "cell_type": "code",
   "execution_count": 48,
   "id": "8c5ce61d-af7f-4f3a-aa46-1888fd611f7a",
   "metadata": {},
   "outputs": [
    {
     "data": {
      "text/plain": [
       "Row(VendorID=2, pickup_datetime=datetime.datetime(2020, 1, 6, 9, 18, 38), dropoff_datetime=datetime.datetime(2020, 1, 6, 9, 33, 56), store_and_fwd_flag='N', RatecodeID=1, PULocationID=263, DOLocationID=233, passenger_count=1, trip_distance=3.03, fare_amount=12.0, extra=0.0, mta_tax=0.5, tip_amount=1.5, tolls_amount=0.0, improvement_surcharge=0.3, total_amount=16.8, payment_type=1, congestion_surcharge=2.5, service_type='yellow')"
      ]
     },
     "execution_count": 48,
     "metadata": {},
     "output_type": "execute_result"
    }
   ],
   "source": [
    "df_yellow_sel.head()"
   ]
  },
  {
   "cell_type": "code",
   "execution_count": 49,
   "id": "74453810-cb99-47e2-9e99-28c1ef9f1ae4",
   "metadata": {},
   "outputs": [],
   "source": [
    "# Combine 2 df into 1\n",
    "df_trips_data = df_green_sel.unionAll(df_yellow_sel)"
   ]
  },
  {
   "cell_type": "code",
   "execution_count": 50,
   "id": "ed129804-a256-4d19-a1ad-033b861a5487",
   "metadata": {},
   "outputs": [
    {
     "name": "stdout",
     "output_type": "stream",
     "text": [
      "+--------+-------------------+-------------------+------------------+----------+------------+------------+---------------+-------------+-----------+-----+-------+----------+------------+---------------------+------------+------------+--------------------+------------+\n",
      "|VendorID|    pickup_datetime|   dropoff_datetime|store_and_fwd_flag|RatecodeID|PULocationID|DOLocationID|passenger_count|trip_distance|fare_amount|extra|mta_tax|tip_amount|tolls_amount|improvement_surcharge|total_amount|payment_type|congestion_surcharge|service_type|\n",
      "+--------+-------------------+-------------------+------------------+----------+------------+------------+---------------+-------------+-----------+-----+-------+----------+------------+---------------------+------------+------------+--------------------+------------+\n",
      "|       2|2020-01-23 13:10:15|2020-01-23 13:38:16|                 N|         1|          74|         130|              1|        12.77|       36.0|  0.0|    0.5|      2.05|        6.12|                  0.3|       44.97|           1|                 0.0|       green|\n",
      "|    NULL|2020-01-20 15:09:00|2020-01-20 15:46:00|              NULL|      NULL|          67|          39|           NULL|          8.0|       29.9| 2.75|    0.5|       0.0|         0.0|                  0.3|       33.45|        NULL|                NULL|       green|\n",
      "|       2|2020-01-15 20:23:41|2020-01-15 20:31:18|                 N|         1|         260|         157|              1|         1.27|        7.0|  0.5|    0.5|       0.0|         0.0|                  0.3|         8.3|           2|                 0.0|       green|\n",
      "|       2|2020-01-05 16:32:26|2020-01-05 16:40:51|                 N|         1|          82|          83|              1|         1.25|        7.5|  0.0|    0.5|       0.0|         0.0|                  0.3|         8.3|           2|                 0.0|       green|\n",
      "|       2|2020-01-29 19:22:42|2020-01-29 19:31:02|                 N|         1|         166|          42|              1|         1.84|        8.0|  1.0|    0.5|      2.94|         0.0|                  0.3|       12.74|           1|                 0.0|       green|\n",
      "|       2|2020-01-15 11:07:42|2020-01-15 11:11:31|                 N|         1|         179|         223|              2|         0.76|        5.0|  0.0|    0.5|       0.0|         0.0|                  0.3|         5.8|           2|                 0.0|       green|\n",
      "|       2|2020-01-16 08:22:29|2020-01-16 08:50:24|                 N|         1|          41|         237|              1|         3.32|       18.5|  0.0|    0.5|       3.0|         0.0|                  0.3|       25.05|           1|                2.75|       green|\n",
      "|       2|2020-01-28 17:05:28|2020-01-28 17:26:11|                 N|         1|          75|         161|              1|         2.21|       14.0|  1.0|    0.5|      2.78|         0.0|                  0.3|       21.33|           1|                2.75|       green|\n",
      "|       1|2020-01-22 14:51:37|2020-01-22 14:57:29|                 N|         1|         152|         166|              1|          0.9|        6.0|  0.0|    0.5|       1.0|         0.0|                  0.3|         7.8|           1|                 0.0|       green|\n",
      "|       2|2020-01-31 10:25:04|2020-01-31 10:52:13|                 N|         1|          75|         234|              1|          6.1|       22.5|  0.0|    0.5|       0.0|         0.0|                  0.3|       26.05|           2|                2.75|       green|\n",
      "|       2|2020-01-20 15:50:54|2020-01-20 16:00:06|                 N|         1|          75|          41|              1|         1.74|        8.0|  0.0|    0.5|      1.76|         0.0|                  0.3|       10.56|           1|                 0.0|       green|\n",
      "|       2|2020-01-31 11:35:17|2020-01-31 11:44:29|                 N|         1|         260|         226|              5|         1.18|        7.5|  0.0|    0.5|       0.0|         0.0|                  0.3|         8.3|           2|                 0.0|       green|\n",
      "|       1|2020-01-04 20:44:28|2020-01-04 20:52:24|                 N|         1|         129|         129|              1|          2.2|        9.5|  0.5|    0.5|       2.0|         0.0|                  0.3|        12.8|           1|                 0.0|       green|\n",
      "|       2|2020-01-17 21:47:52|2020-01-17 22:00:07|                 N|         1|          74|         126|              1|         3.04|       12.0|  0.5|    0.5|       0.0|         0.0|                  0.3|        13.3|           2|                 0.0|       green|\n",
      "|       2|2020-01-21 23:13:47|2020-01-21 23:17:31|                 N|         1|          61|          61|              1|         0.85|        5.0|  0.5|    0.5|       0.0|         0.0|                  0.3|         6.3|           2|                 0.0|       green|\n",
      "|       2|2020-01-02 08:11:21|2020-01-02 08:32:05|                 N|         1|          66|         164|              1|         5.06|       18.5|  0.0|    0.5|       1.5|         0.0|                  0.3|       23.55|           1|                2.75|       green|\n",
      "|       2|2020-01-27 02:59:20|2020-01-27 03:05:18|                 N|         1|           7|         179|              1|         1.57|        6.5|  0.5|    0.5|       0.0|         0.0|                  0.3|         7.8|           2|                 0.0|       green|\n",
      "|       2|2020-01-16 14:39:13|2020-01-16 15:19:56|                 N|         1|          74|         243|              1|          6.8|       29.5|  0.0|    0.5|       0.0|         0.0|                  0.3|        30.3|           1|                 0.0|       green|\n",
      "|       2|2020-01-16 18:42:24|2020-01-16 18:47:59|                 N|         1|          66|          97|              2|         1.06|        6.0|  1.0|    0.5|      1.56|         0.0|                  0.3|        9.36|           1|                 0.0|       green|\n",
      "|       2|2020-01-03 09:24:54|2020-01-03 09:33:14|                 N|         1|          61|         225|              1|         1.23|        7.0|  0.0|    0.5|       0.0|         0.0|                  0.3|         7.8|           1|                 0.0|       green|\n",
      "+--------+-------------------+-------------------+------------------+----------+------------+------------+---------------+-------------+-----------+-----+-------+----------+------------+---------------------+------------+------------+--------------------+------------+\n",
      "only showing top 20 rows\n",
      "\n"
     ]
    }
   ],
   "source": [
    "df_trips_data.show()"
   ]
  },
  {
   "cell_type": "code",
   "execution_count": 51,
   "id": "a49fda8c-c606-4d17-9d2a-a6841a9cab08",
   "metadata": {},
   "outputs": [
    {
     "name": "stderr",
     "output_type": "stream",
     "text": [
      "[Stage 209:===================================================>   (14 + 1) / 15]\r"
     ]
    },
    {
     "name": "stdout",
     "output_type": "stream",
     "text": [
      "+------------+--------+\n",
      "|service_type|   count|\n",
      "+------------+--------+\n",
      "|       green| 2304517|\n",
      "|      yellow|39649199|\n",
      "+------------+--------+\n",
      "\n"
     ]
    },
    {
     "name": "stderr",
     "output_type": "stream",
     "text": [
      "                                                                                \r"
     ]
    }
   ],
   "source": [
    "# count by service_type\n",
    "df_trips_data.groupby('service_type').count().show()"
   ]
  },
  {
   "cell_type": "markdown",
   "id": "e1cc8a44-d72b-44a9-97d3-11a9b7d1d7dc",
   "metadata": {},
   "source": [
    "### Use SQL"
   ]
  },
  {
   "cell_type": "code",
   "execution_count": 53,
   "id": "384f9be3-7116-4de1-a9e1-b97e5dae417b",
   "metadata": {},
   "outputs": [
    {
     "name": "stderr",
     "output_type": "stream",
     "text": [
      "/usr/local/python/3.10.13/lib/python3.10/site-packages/pyspark/sql/dataframe.py:329: FutureWarning: Deprecated in 2.0, use createOrReplaceTempView instead.\n",
      "  warnings.warn(\"Deprecated in 2.0, use createOrReplaceTempView instead.\", FutureWarning)\n"
     ]
    }
   ],
   "source": [
    "# df register to temp table for use with SQL\n",
    "df_trips_data.registerTempTable('trips_data')"
   ]
  },
  {
   "cell_type": "code",
   "execution_count": 54,
   "id": "c8e1ec8a-3c5d-4ecf-abcc-b6ccc0a734a6",
   "metadata": {},
   "outputs": [],
   "source": [
    "df_trips_data.createOrReplaceTempView('trips_data')"
   ]
  },
  {
   "cell_type": "code",
   "execution_count": 56,
   "id": "e0dc14d3-8634-48d8-9dca-6b0e280f3eba",
   "metadata": {},
   "outputs": [
    {
     "name": "stdout",
     "output_type": "stream",
     "text": [
      "+--------+-------------------+-------------------+------------------+----------+------------+------------+---------------+-------------+-----------+-----+-------+----------+------------+---------------------+------------+------------+--------------------+------------+\n",
      "|VendorID|    pickup_datetime|   dropoff_datetime|store_and_fwd_flag|RatecodeID|PULocationID|DOLocationID|passenger_count|trip_distance|fare_amount|extra|mta_tax|tip_amount|tolls_amount|improvement_surcharge|total_amount|payment_type|congestion_surcharge|service_type|\n",
      "+--------+-------------------+-------------------+------------------+----------+------------+------------+---------------+-------------+-----------+-----+-------+----------+------------+---------------------+------------+------------+--------------------+------------+\n",
      "|       2|2020-01-23 13:10:15|2020-01-23 13:38:16|                 N|         1|          74|         130|              1|        12.77|       36.0|  0.0|    0.5|      2.05|        6.12|                  0.3|       44.97|           1|                 0.0|       green|\n",
      "|    NULL|2020-01-20 15:09:00|2020-01-20 15:46:00|              NULL|      NULL|          67|          39|           NULL|          8.0|       29.9| 2.75|    0.5|       0.0|         0.0|                  0.3|       33.45|        NULL|                NULL|       green|\n",
      "|       2|2020-01-15 20:23:41|2020-01-15 20:31:18|                 N|         1|         260|         157|              1|         1.27|        7.0|  0.5|    0.5|       0.0|         0.0|                  0.3|         8.3|           2|                 0.0|       green|\n",
      "|       2|2020-01-05 16:32:26|2020-01-05 16:40:51|                 N|         1|          82|          83|              1|         1.25|        7.5|  0.0|    0.5|       0.0|         0.0|                  0.3|         8.3|           2|                 0.0|       green|\n",
      "|       2|2020-01-29 19:22:42|2020-01-29 19:31:02|                 N|         1|         166|          42|              1|         1.84|        8.0|  1.0|    0.5|      2.94|         0.0|                  0.3|       12.74|           1|                 0.0|       green|\n",
      "|       2|2020-01-15 11:07:42|2020-01-15 11:11:31|                 N|         1|         179|         223|              2|         0.76|        5.0|  0.0|    0.5|       0.0|         0.0|                  0.3|         5.8|           2|                 0.0|       green|\n",
      "|       2|2020-01-16 08:22:29|2020-01-16 08:50:24|                 N|         1|          41|         237|              1|         3.32|       18.5|  0.0|    0.5|       3.0|         0.0|                  0.3|       25.05|           1|                2.75|       green|\n",
      "|       2|2020-01-28 17:05:28|2020-01-28 17:26:11|                 N|         1|          75|         161|              1|         2.21|       14.0|  1.0|    0.5|      2.78|         0.0|                  0.3|       21.33|           1|                2.75|       green|\n",
      "|       1|2020-01-22 14:51:37|2020-01-22 14:57:29|                 N|         1|         152|         166|              1|          0.9|        6.0|  0.0|    0.5|       1.0|         0.0|                  0.3|         7.8|           1|                 0.0|       green|\n",
      "|       2|2020-01-31 10:25:04|2020-01-31 10:52:13|                 N|         1|          75|         234|              1|          6.1|       22.5|  0.0|    0.5|       0.0|         0.0|                  0.3|       26.05|           2|                2.75|       green|\n",
      "+--------+-------------------+-------------------+------------------+----------+------------+------------+---------------+-------------+-----------+-----+-------+----------+------------+---------------------+------------+------------+--------------------+------------+\n",
      "\n"
     ]
    }
   ],
   "source": [
    "spark.sql(\"\"\"\n",
    "SELECT * FROM trips_data LIMIT 10;\n",
    "\"\"\").show()"
   ]
  },
  {
   "cell_type": "code",
   "execution_count": 58,
   "id": "ce37ba82-9df5-4726-80c6-a3933c65e9be",
   "metadata": {},
   "outputs": [
    {
     "name": "stderr",
     "output_type": "stream",
     "text": [
      "[Stage 216:===================================================>   (14 + 1) / 15]\r"
     ]
    },
    {
     "name": "stdout",
     "output_type": "stream",
     "text": [
      "+------------+--------+\n",
      "|service_type|   count|\n",
      "+------------+--------+\n",
      "|       green| 2304517|\n",
      "|      yellow|39649199|\n",
      "+------------+--------+\n",
      "\n"
     ]
    },
    {
     "name": "stderr",
     "output_type": "stream",
     "text": [
      "                                                                                \r"
     ]
    }
   ],
   "source": [
    "# count by service_type\n",
    "spark.sql(\"\"\"\n",
    "SELECT\n",
    "    service_type\n",
    "    , COUNT(1) AS count\n",
    "FROM \n",
    "    trips_data \n",
    "GROUP BY \n",
    "    service_type;\n",
    "\"\"\").show()"
   ]
  },
  {
   "cell_type": "code",
   "execution_count": 59,
   "id": "3064a76a-496f-42c5-8288-82df77b24716",
   "metadata": {},
   "outputs": [],
   "source": [
    "df_result = spark.sql(\"\"\"\n",
    "SELECT \n",
    "    -- Reveneue grouping \n",
    "    PULocationID AS revenue_zone,\n",
    "    date_trunc('month', pickup_datetime) AS revenue_month, \n",
    "    service_type, \n",
    "\n",
    "    -- Revenue calculation \n",
    "    SUM(fare_amount) AS revenue_monthly_fare,\n",
    "    SUM(extra) AS revenue_monthly_extra,\n",
    "    SUM(mta_tax) AS revenue_monthly_mta_tax,\n",
    "    SUM(tip_amount) AS revenue_monthly_tip_amount,\n",
    "    SUM(tolls_amount) AS revenue_monthly_tolls_amount,\n",
    "    SUM(improvement_surcharge) AS revenue_monthly_improvement_surcharge,\n",
    "    SUM(total_amount) AS revenue_monthly_total_amount,\n",
    "    SUM(congestion_surcharge) AS revenue_monthly_congestion_surcharge,\n",
    "\n",
    "    -- Additional calculations\n",
    "    AVG(passenger_count) AS avg_montly_passenger_count,\n",
    "    AVG(trip_distance) AS avg_montly_trip_distance\n",
    "FROM\n",
    "    trips_data\n",
    "GROUP BY\n",
    "    1, 2, 3\n",
    ";\n",
    "\"\"\")"
   ]
  },
  {
   "cell_type": "code",
   "execution_count": 60,
   "id": "37d5e4fc-3695-4cfe-bb25-b32052714cf1",
   "metadata": {},
   "outputs": [
    {
     "name": "stderr",
     "output_type": "stream",
     "text": [
      "[Stage 219:===================================================>   (14 + 1) / 15]\r"
     ]
    },
    {
     "name": "stdout",
     "output_type": "stream",
     "text": [
      "+------------+-------------------+------------+--------------------+---------------------+-----------------------+--------------------------+----------------------------+-------------------------------------+----------------------------+------------------------------------+--------------------------+------------------------+\n",
      "|revenue_zone|      revenue_month|service_type|revenue_monthly_fare|revenue_monthly_extra|revenue_monthly_mta_tax|revenue_monthly_tip_amount|revenue_monthly_tolls_amount|revenue_monthly_improvement_surcharge|revenue_monthly_total_amount|revenue_monthly_congestion_surcharge|avg_montly_passenger_count|avg_montly_trip_distance|\n",
      "+------------+-------------------+------------+--------------------+---------------------+-----------------------+--------------------------+----------------------------+-------------------------------------+----------------------------+------------------------------------+--------------------------+------------------------+\n",
      "|         250|2020-02-01 00:00:00|       green|  15359.960000000061|               1282.5|                  117.5|                     56.01|           590.3200000000003|                    180.0000000000011|           17598.43999999995|                                11.0|        1.2394957983193278|       4.962810650887575|\n",
      "|         158|2020-02-01 00:00:00|       green|              124.36|                 8.25|                    0.5|                       0.0|                         2.8|                   0.8999999999999999|                      136.81|                                NULL|                      NULL|      11.090000000000002|\n",
      "|          15|2020-03-01 00:00:00|       green|  1682.2299999999996|                  5.5|                    6.5|                       0.0|                       79.56|                   19.800000000000026|                     1802.44|                                 0.0|                       1.0|       7.910298507462685|\n",
      "|         229|2020-03-01 00:00:00|       green|   676.3600000000001|                  0.0|                    1.0|                       0.0|          42.839999999999996|                    8.099999999999998|                       728.3|                                 0.0|                       1.0|       7.691111111111111|\n",
      "|         137|2020-10-01 00:00:00|       green|  3480.8299999999995|                  0.0|                    0.0|                     297.0|          250.92000000000013|                    32.40000000000005|          4061.1499999999996|                                NULL|                      NULL|       9.184722222222224|\n",
      "|          44|2020-10-01 00:00:00|       green|               146.5|                  3.5|                    2.0|                       5.5|                         0.0|                                  1.2|                       158.7|                                 0.0|                       1.0|                 12.0475|\n",
      "|         152|2020-02-01 00:00:00|       green|            37630.82|              1541.25|                 1398.5|        2836.6600000000035|           538.3700000000003|                    903.8999999999543|           45984.60000000085|                             1336.25|        1.2240055826936498|        2.72640336678537|\n",
      "|         136|2020-03-01 00:00:00|       green|  12226.930000000018|                 60.5|                   89.5|                     32.16|           485.2000000000003|                   163.20000000000047|          13123.939999999977|                                8.25|        1.1637426900584795|      6.4872972972972995|\n",
      "|         119|2020-03-01 00:00:00|       green|             11026.2|                100.5|                  108.5|        40.459999999999994|           525.8000000000003|                    156.0000000000002|           12021.45999999997|                                8.25|        1.0924369747899159|       5.552723880597017|\n",
      "|         153|2020-03-01 00:00:00|       green|  2039.5400000000006|                 15.0|                   30.5|        29.790000000000006|                        33.4|                   34.800000000000026|          2204.7799999999993|                                 0.0|        1.1333333333333333|       4.165042016806725|\n",
      "|          26|2020-03-01 00:00:00|       green|   9467.539999999999|                 52.5|                   52.0|                       0.0|          184.35000000000005|                   122.99999999999919|           9929.640000000001|                                 0.0|        1.1397849462365592|       5.237601918465228|\n",
      "|         239|2021-06-01 00:00:00|       green|   997.1000000000004|                96.25|                    0.5|                      9.71|                        16.1|                   10.800000000000004|                     1137.71|                                NULL|                      NULL|       6.322222222222224|\n",
      "|          27|2021-06-01 00:00:00|       green|              288.14|                 4.75|                    1.0|        28.619999999999997|                       21.09|                                  1.8|          345.40000000000003|                                 0.0|                       1.0|      12.956666666666669|\n",
      "|          40|2021-05-01 00:00:00|       green|             2052.94|                 82.3|                   30.5|                    243.16|           80.61999999999999|                    34.50000000000004|          2595.5199999999986|                               52.25|        1.0476190476190477|       4.144137931034484|\n",
      "|         250|2021-05-01 00:00:00|       green|   5046.260000000002|               470.65|                   17.0|                     55.88|          220.98000000000002|                   60.299999999999926|                     5873.82|                                 0.0|         1.393939393939394|      1108.1411330049261|\n",
      "|         243|2019-12-01 00:00:00|       green|               13.99|                  0.0|                    0.0|                       1.0|                         0.0|                                  0.3|                       15.29|                                 0.0|                       1.0|                     0.0|\n",
      "|          28|2020-03-01 00:00:00|       green|   5891.060000000002|                29.25|                   53.0|         80.32000000000001|           195.8400000000001|                    84.29999999999956|           6368.820000000014|                                2.75|        1.2043795620437956|       5.802602739726027|\n",
      "|          45|2020-03-01 00:00:00|       green|             2403.39|                 11.0|                    5.0|                       0.0|                        64.0|                    21.30000000000003|          2506.6399999999994|                                 0.0|                       1.2|       9.125633802816903|\n",
      "|         102|2020-03-01 00:00:00|       green|  2874.7399999999984|                 26.5|                   17.5|                     40.22|                      104.04|                    46.19999999999992|           3135.650000000001|                                 5.5|        1.1481481481481481|       4.857922077922078|\n",
      "|          48|2020-10-01 00:00:00|       green|             1504.43|                  0.0|                    0.0|                     115.5|           75.72999999999999|                   12.600000000000009|          1708.2600000000007|                                NULL|                      NULL|       9.061428571428573|\n",
      "+------------+-------------------+------------+--------------------+---------------------+-----------------------+--------------------------+----------------------------+-------------------------------------+----------------------------+------------------------------------+--------------------------+------------------------+\n",
      "only showing top 20 rows\n",
      "\n"
     ]
    },
    {
     "name": "stderr",
     "output_type": "stream",
     "text": [
      "                                                                                \r"
     ]
    }
   ],
   "source": [
    "df_result.show()"
   ]
  },
  {
   "cell_type": "code",
   "execution_count": 62,
   "id": "b99c9e18-e3ff-4ab9-bf10-5d71ec50af9e",
   "metadata": {},
   "outputs": [
    {
     "name": "stderr",
     "output_type": "stream",
     "text": [
      "                                                                                \r"
     ]
    }
   ],
   "source": [
    "# Save the report -- coalesce into single partition sice report is small\n",
    "df_result.coalesce(1).write.parquet('data/report/revenue/', mode='overwrite')"
   ]
  },
  {
   "cell_type": "code",
   "execution_count": null,
   "id": "af08d3ca-3a0f-405f-b2ee-7cd3520692f5",
   "metadata": {},
   "outputs": [],
   "source": []
  }
 ],
 "metadata": {
  "kernelspec": {
   "display_name": "Python 3 (ipykernel)",
   "language": "python",
   "name": "python3"
  },
  "language_info": {
   "codemirror_mode": {
    "name": "ipython",
    "version": 3
   },
   "file_extension": ".py",
   "mimetype": "text/x-python",
   "name": "python",
   "nbconvert_exporter": "python",
   "pygments_lexer": "ipython3",
   "version": "3.10.13"
  }
 },
 "nbformat": 4,
 "nbformat_minor": 5
}
