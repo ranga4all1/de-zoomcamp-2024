{
 "cells": [
  {
   "cell_type": "code",
   "execution_count": 1,
   "id": "7398ba2b-683b-4c79-8691-10ce380de11f",
   "metadata": {},
   "outputs": [
    {
     "name": "stderr",
     "output_type": "stream",
     "text": [
      "24/03/02 02:07:32 WARN Utils: Your hostname, codespaces-abf587 resolves to a loopback address: 127.0.0.1; using 172.16.5.4 instead (on interface eth0)\n",
      "24/03/02 02:07:32 WARN Utils: Set SPARK_LOCAL_IP if you need to bind to another address\n",
      "Setting default log level to \"WARN\".\n",
      "To adjust logging level use sc.setLogLevel(newLevel). For SparkR, use setLogLevel(newLevel).\n",
      "24/03/02 02:07:33 WARN NativeCodeLoader: Unable to load native-hadoop library for your platform... using builtin-java classes where applicable\n",
      "24/03/02 02:07:52 WARN GarbageCollectionMetrics: To enable non-built-in garbage collector(s) List(G1 Concurrent GC), users should configure it(them) to spark.eventLog.gcMetrics.youngGenerationGarbageCollectors or spark.eventLog.gcMetrics.oldGenerationGarbageCollectors\n"
     ]
    }
   ],
   "source": [
    "import pyspark\n",
    "from pyspark.sql import SparkSession\n",
    "\n",
    "spark = SparkSession.builder \\\n",
    "    .master(\"local[*]\") \\\n",
    "    .appName('test') \\\n",
    "    .getOrCreate()"
   ]
  },
  {
   "cell_type": "code",
   "execution_count": 2,
   "id": "7d5c871e-4e3e-48c4-8765-e6092f1ff80c",
   "metadata": {},
   "outputs": [
    {
     "name": "stderr",
     "output_type": "stream",
     "text": [
      "                                                                                \r"
     ]
    }
   ],
   "source": [
    "df_green = spark.read.parquet('data/pq/green/*/*')"
   ]
  },
  {
   "cell_type": "code",
   "execution_count": 4,
   "id": "c2bde9fb-3a2d-40af-afc9-200d975930a7",
   "metadata": {},
   "outputs": [
    {
     "name": "stderr",
     "output_type": "stream",
     "text": [
      "                                                                                \r"
     ]
    },
    {
     "name": "stdout",
     "output_type": "stream",
     "text": [
      "+--------+--------------------+---------------------+------------------+----------+------------+------------+---------------+-------------+-----------+-----+-------+----------+------------+---------+---------------------+------------+------------+---------+--------------------+\n",
      "|VendorID|lpep_pickup_datetime|lpep_dropoff_datetime|store_and_fwd_flag|RatecodeID|PULocationID|DOLocationID|passenger_count|trip_distance|fare_amount|extra|mta_tax|tip_amount|tolls_amount|ehail_fee|improvement_surcharge|total_amount|payment_type|trip_type|congestion_surcharge|\n",
      "+--------+--------------------+---------------------+------------------+----------+------------+------------+---------------+-------------+-----------+-----+-------+----------+------------+---------+---------------------+------------+------------+---------+--------------------+\n",
      "|       2| 2020-01-23 13:10:15|  2020-01-23 13:38:16|                 N|         1|          74|         130|              1|        12.77|       36.0|  0.0|    0.5|      2.05|        6.12|     NULL|                  0.3|       44.97|           1|        1|                 0.0|\n",
      "|    NULL| 2020-01-20 15:09:00|  2020-01-20 15:46:00|              NULL|      NULL|          67|          39|           NULL|          8.0|       29.9| 2.75|    0.5|       0.0|         0.0|     NULL|                  0.3|       33.45|        NULL|     NULL|                NULL|\n",
      "|       2| 2020-01-15 20:23:41|  2020-01-15 20:31:18|                 N|         1|         260|         157|              1|         1.27|        7.0|  0.5|    0.5|       0.0|         0.0|     NULL|                  0.3|         8.3|           2|        1|                 0.0|\n",
      "|       2| 2020-01-05 16:32:26|  2020-01-05 16:40:51|                 N|         1|          82|          83|              1|         1.25|        7.5|  0.0|    0.5|       0.0|         0.0|     NULL|                  0.3|         8.3|           2|        1|                 0.0|\n",
      "|       2| 2020-01-29 19:22:42|  2020-01-29 19:31:02|                 N|         1|         166|          42|              1|         1.84|        8.0|  1.0|    0.5|      2.94|         0.0|     NULL|                  0.3|       12.74|           1|        1|                 0.0|\n",
      "|       2| 2020-01-15 11:07:42|  2020-01-15 11:11:31|                 N|         1|         179|         223|              2|         0.76|        5.0|  0.0|    0.5|       0.0|         0.0|     NULL|                  0.3|         5.8|           2|        1|                 0.0|\n",
      "|       2| 2020-01-16 08:22:29|  2020-01-16 08:50:24|                 N|         1|          41|         237|              1|         3.32|       18.5|  0.0|    0.5|       3.0|         0.0|     NULL|                  0.3|       25.05|           1|        1|                2.75|\n",
      "|       2| 2020-01-28 17:05:28|  2020-01-28 17:26:11|                 N|         1|          75|         161|              1|         2.21|       14.0|  1.0|    0.5|      2.78|         0.0|     NULL|                  0.3|       21.33|           1|        1|                2.75|\n",
      "|       1| 2020-01-22 14:51:37|  2020-01-22 14:57:29|                 N|         1|         152|         166|              1|          0.9|        6.0|  0.0|    0.5|       1.0|         0.0|     NULL|                  0.3|         7.8|           1|        1|                 0.0|\n",
      "|       2| 2020-01-31 10:25:04|  2020-01-31 10:52:13|                 N|         1|          75|         234|              1|          6.1|       22.5|  0.0|    0.5|       0.0|         0.0|     NULL|                  0.3|       26.05|           2|        1|                2.75|\n",
      "|       2| 2020-01-20 15:50:54|  2020-01-20 16:00:06|                 N|         1|          75|          41|              1|         1.74|        8.0|  0.0|    0.5|      1.76|         0.0|     NULL|                  0.3|       10.56|           1|        1|                 0.0|\n",
      "|       2| 2020-01-31 11:35:17|  2020-01-31 11:44:29|                 N|         1|         260|         226|              5|         1.18|        7.5|  0.0|    0.5|       0.0|         0.0|     NULL|                  0.3|         8.3|           2|        1|                 0.0|\n",
      "|       1| 2020-01-04 20:44:28|  2020-01-04 20:52:24|                 N|         1|         129|         129|              1|          2.2|        9.5|  0.5|    0.5|       2.0|         0.0|     NULL|                  0.3|        12.8|           1|        1|                 0.0|\n",
      "|       2| 2020-01-17 21:47:52|  2020-01-17 22:00:07|                 N|         1|          74|         126|              1|         3.04|       12.0|  0.5|    0.5|       0.0|         0.0|     NULL|                  0.3|        13.3|           2|        1|                 0.0|\n",
      "|       2| 2020-01-21 23:13:47|  2020-01-21 23:17:31|                 N|         1|          61|          61|              1|         0.85|        5.0|  0.5|    0.5|       0.0|         0.0|     NULL|                  0.3|         6.3|           2|        1|                 0.0|\n",
      "|       2| 2020-01-02 08:11:21|  2020-01-02 08:32:05|                 N|         1|          66|         164|              1|         5.06|       18.5|  0.0|    0.5|       1.5|         0.0|     NULL|                  0.3|       23.55|           1|        1|                2.75|\n",
      "|       2| 2020-01-27 02:59:20|  2020-01-27 03:05:18|                 N|         1|           7|         179|              1|         1.57|        6.5|  0.5|    0.5|       0.0|         0.0|     NULL|                  0.3|         7.8|           2|        1|                 0.0|\n",
      "|       2| 2020-01-16 14:39:13|  2020-01-16 15:19:56|                 N|         1|          74|         243|              1|          6.8|       29.5|  0.0|    0.5|       0.0|         0.0|     NULL|                  0.3|        30.3|           1|        1|                 0.0|\n",
      "|       2| 2020-01-16 18:42:24|  2020-01-16 18:47:59|                 N|         1|          66|          97|              2|         1.06|        6.0|  1.0|    0.5|      1.56|         0.0|     NULL|                  0.3|        9.36|           1|        1|                 0.0|\n",
      "|       2| 2020-01-03 09:24:54|  2020-01-03 09:33:14|                 N|         1|          61|         225|              1|         1.23|        7.0|  0.0|    0.5|       0.0|         0.0|     NULL|                  0.3|         7.8|           1|        1|                 0.0|\n",
      "+--------+--------------------+---------------------+------------------+----------+------------+------------+---------------+-------------+-----------+-----+-------+----------+------------+---------+---------------------+------------+------------+---------+--------------------+\n",
      "only showing top 20 rows\n",
      "\n"
     ]
    }
   ],
   "source": [
    "df_green.show()"
   ]
  },
  {
   "cell_type": "code",
   "execution_count": 3,
   "id": "d6fc3bea-39e7-439a-81f0-7d2844357e7b",
   "metadata": {},
   "outputs": [],
   "source": [
    "df_green.createOrReplaceTempView('green')"
   ]
  },
  {
   "cell_type": "code",
   "execution_count": 18,
   "id": "3f0015f3-4bd1-4dd7-a1d3-89082a728a27",
   "metadata": {},
   "outputs": [],
   "source": [
    "df_green_revenue = spark.sql(\"\"\"\n",
    "SELECT \n",
    "    date_trunc('hour', lpep_pickup_datetime) AS hour\n",
    "    , PULocationID AS zone\n",
    "    \n",
    "    , SUM(total_amount) AS amount\n",
    "    , COUNT(1) AS number_records\n",
    "FROM\n",
    "    green\n",
    "WHERE\n",
    "    lpep_pickup_datetime >= '2020-01-01 00:00:00'\n",
    "GROUP BY\n",
    "    1, 2\n",
    "-- ORDER BY\n",
    "--    1, 2\n",
    ";\n",
    "\"\"\")"
   ]
  },
  {
   "cell_type": "code",
   "execution_count": 19,
   "id": "b8cdc80a-b49b-4ac5-b958-fb9bb5aaf9a5",
   "metadata": {},
   "outputs": [
    {
     "name": "stderr",
     "output_type": "stream",
     "text": [
      "[Stage 43:===================>                                      (1 + 2) / 3]\r"
     ]
    },
    {
     "name": "stdout",
     "output_type": "stream",
     "text": [
      "+-------------------+----+------------------+--------------+\n",
      "|               hour|zone|            amount|number_records|\n",
      "+-------------------+----+------------------+--------------+\n",
      "|2020-01-28 19:00:00| 134|193.61000000000007|            17|\n",
      "|2020-01-22 19:00:00|  65| 657.0300000000001|            41|\n",
      "|2020-01-27 08:00:00|  17|             85.56|             4|\n",
      "|2020-01-02 09:00:00|  66|229.39999999999998|            12|\n",
      "|2020-01-02 12:00:00|  89|310.28000000000003|            14|\n",
      "|2020-01-07 12:00:00|  66|             179.5|             9|\n",
      "|2020-01-03 08:00:00| 223|165.90000000000003|             9|\n",
      "|2020-01-17 10:00:00|  41| 638.2699999999999|            49|\n",
      "|2020-01-02 11:00:00|  26|             198.6|             7|\n",
      "|2020-01-12 20:00:00| 247|36.900000000000006|             3|\n",
      "|2020-01-12 15:00:00|  10|             75.92|             1|\n",
      "|2020-01-24 04:00:00| 129|148.89000000000001|            13|\n",
      "|2020-01-04 20:00:00|  25| 369.5700000000001|            23|\n",
      "|2020-01-22 10:00:00|  74|1179.0599999999988|            83|\n",
      "|2020-01-13 18:00:00|  92|207.02000000000004|            11|\n",
      "|2020-01-19 11:00:00| 218|            181.16|             5|\n",
      "|2020-01-26 12:00:00|  35|257.03000000000003|             8|\n",
      "|2020-01-30 06:00:00|  75|            282.63|            19|\n",
      "|2020-01-04 22:00:00|  83|            298.16|            15|\n",
      "|2020-01-06 21:00:00| 129|288.02000000000004|            14|\n",
      "+-------------------+----+------------------+--------------+\n",
      "only showing top 20 rows\n",
      "\n"
     ]
    },
    {
     "name": "stderr",
     "output_type": "stream",
     "text": [
      "                                                                                \r"
     ]
    }
   ],
   "source": [
    "df_green_revenue.show()"
   ]
  },
  {
   "cell_type": "code",
   "execution_count": 20,
   "id": "04a40971-c340-4815-8e83-dd12aa163916",
   "metadata": {},
   "outputs": [
    {
     "name": "stderr",
     "output_type": "stream",
     "text": [
      "                                                                                \r"
     ]
    }
   ],
   "source": [
    "df_green_revenue \\\n",
    "    .repartition(20) \\\n",
    "    .write.parquet('data/report/revenue/green', mode='overwrite')"
   ]
  },
  {
   "cell_type": "code",
   "execution_count": 17,
   "id": "e762e372-6f25-47ee-a0f8-2461f152970a",
   "metadata": {},
   "outputs": [],
   "source": [
    "df_yellow = spark.read.parquet('data/pq/yellow/*/*')\n",
    "df_yellow.createOrReplaceTempView('yellow')"
   ]
  },
  {
   "cell_type": "code",
   "execution_count": 21,
   "id": "6012774b-36a8-4095-bdb9-119ddf5764fe",
   "metadata": {},
   "outputs": [],
   "source": [
    "df_yellow_revenue = spark.sql(\"\"\"\n",
    "SELECT \n",
    "    date_trunc('hour', tpep_pickup_datetime) AS hour, \n",
    "    PULocationID AS zone,\n",
    "\n",
    "    SUM(total_amount) AS amount,\n",
    "    COUNT(1) AS number_records\n",
    "FROM\n",
    "    yellow\n",
    "WHERE\n",
    "    tpep_pickup_datetime >= '2020-01-01 00:00:00'\n",
    "GROUP BY\n",
    "    1, 2\n",
    "\"\"\")"
   ]
  },
  {
   "cell_type": "code",
   "execution_count": 22,
   "id": "adae3e87-10f0-4b43-b71d-eee519f2edcc",
   "metadata": {},
   "outputs": [
    {
     "name": "stderr",
     "output_type": "stream",
     "text": [
      "[Stage 54:>                                                         (0 + 1) / 1]\r"
     ]
    },
    {
     "name": "stdout",
     "output_type": "stream",
     "text": [
      "+-------------------+----+------------------+--------------+\n",
      "|               hour|zone|            amount|number_records|\n",
      "+-------------------+----+------------------+--------------+\n",
      "|2020-01-10 06:00:00| 144|            149.51|             9|\n",
      "|2020-01-29 03:00:00|  13|            248.89|             6|\n",
      "|2020-01-13 21:00:00| 255|            108.98|             8|\n",
      "|2020-01-04 12:00:00| 249| 2245.569999999999|           152|\n",
      "|2020-01-02 15:00:00| 236| 7382.910000000018|           504|\n",
      "|2020-01-31 21:00:00|  50|1784.4399999999994|           104|\n",
      "|2020-01-07 12:00:00|  68| 3046.229999999997|           181|\n",
      "|2020-01-02 09:00:00| 161|4299.9299999999985|           242|\n",
      "|2020-01-23 17:00:00| 233| 4642.769999999999|           235|\n",
      "|2020-01-06 22:00:00| 158| 923.2100000000003|            57|\n",
      "|2020-01-15 07:00:00|  13|2432.6299999999997|           118|\n",
      "|2020-01-23 19:00:00| 224|            327.28|            16|\n",
      "|2020-01-18 00:00:00| 144|2951.2999999999984|           174|\n",
      "|2020-01-17 19:00:00| 170| 9634.390000000025|           555|\n",
      "|2020-01-06 08:00:00|  43| 2765.499999999998|           169|\n",
      "|2020-01-23 22:00:00| 162| 9752.940000000017|           553|\n",
      "|2020-01-25 21:00:00| 230| 5935.560000000009|           388|\n",
      "|2020-01-04 02:00:00|  79| 6893.030000000011|           426|\n",
      "|2020-01-01 01:00:00| 107| 9994.480000000025|           583|\n",
      "|2020-01-21 18:00:00| 162| 14090.39000000004|           816|\n",
      "+-------------------+----+------------------+--------------+\n",
      "only showing top 20 rows\n",
      "\n"
     ]
    },
    {
     "name": "stderr",
     "output_type": "stream",
     "text": [
      "                                                                                \r"
     ]
    }
   ],
   "source": [
    "df_yellow_revenue.show()"
   ]
  },
  {
   "cell_type": "code",
   "execution_count": 23,
   "id": "d2b98f18-9daa-4ba2-83f8-246facfc89b9",
   "metadata": {},
   "outputs": [
    {
     "name": "stderr",
     "output_type": "stream",
     "text": [
      "                                                                                \r"
     ]
    }
   ],
   "source": [
    "df_yellow_revenue \\\n",
    "    .repartition(20) \\\n",
    "    .write.parquet('data/report/revenue/yellow', mode='overwrite')"
   ]
  },
  {
   "cell_type": "markdown",
   "id": "fa810419-e262-4371-8c67-7a938d837872",
   "metadata": {},
   "source": [
    "## Joining two large tables\n",
    "- Data shuffling happens"
   ]
  },
  {
   "cell_type": "code",
   "execution_count": 24,
   "id": "f3aac742-7d41-49a4-a1bc-ef824f5db014",
   "metadata": {},
   "outputs": [],
   "source": [
    "df_green_revenue = spark.read.parquet('data/report/revenue/green')\n",
    "df_yellow_revenue = spark.read.parquet('data/report/revenue/yellow')"
   ]
  },
  {
   "cell_type": "code",
   "execution_count": 25,
   "id": "d85fb10c-b070-4340-8b15-b12a8e4259f3",
   "metadata": {},
   "outputs": [],
   "source": [
    "df_green_revenue_tmp = df_green_revenue \\\n",
    "    .withColumnRenamed('amount', 'green_amount') \\\n",
    "    .withColumnRenamed('number_records', 'green_number_records')\n",
    "\n",
    "df_yellow_revenue_tmp = df_yellow_revenue \\\n",
    "    .withColumnRenamed('amount', 'yellow_amount') \\\n",
    "    .withColumnRenamed('number_records', 'yellow_number_records')"
   ]
  },
  {
   "cell_type": "code",
   "execution_count": 26,
   "id": "ce95dde8-668b-4a4d-ab63-130edcb6edde",
   "metadata": {},
   "outputs": [],
   "source": [
    "df_join = df_green_revenue_tmp.join(df_yellow_revenue_tmp, on=['hour', 'zone'], how='outer')"
   ]
  },
  {
   "cell_type": "code",
   "execution_count": 28,
   "id": "919f2057-b020-410f-a8b7-56c342b0e551",
   "metadata": {},
   "outputs": [
    {
     "name": "stderr",
     "output_type": "stream",
     "text": [
      "[Stage 72:>                                                         (0 + 1) / 1]\r"
     ]
    },
    {
     "name": "stdout",
     "output_type": "stream",
     "text": [
      "+-------------------+----+------------------+--------------------+------------------+---------------------+\n",
      "|               hour|zone|      green_amount|green_number_records|     yellow_amount|yellow_number_records|\n",
      "+-------------------+----+------------------+--------------------+------------------+---------------------+\n",
      "|2020-01-01 00:00:00|   3|              NULL|                NULL|              25.0|                    1|\n",
      "|2020-01-01 00:00:00|   4|              NULL|                NULL|1004.3000000000002|                   57|\n",
      "|2020-01-01 00:00:00|   7| 769.7299999999996|                  45| 455.1700000000001|                   38|\n",
      "|2020-01-01 00:00:00|  12|              NULL|                NULL|             107.0|                    6|\n",
      "|2020-01-01 00:00:00|  13|              NULL|                NULL|1214.8000000000002|                   56|\n",
      "|2020-01-01 00:00:00|  18|               7.8|                   1|               5.8|                    1|\n",
      "|2020-01-01 00:00:00|  29|              61.3|                   1|              NULL|                 NULL|\n",
      "|2020-01-01 00:00:00|  36|295.34000000000003|                  11|            109.17|                    3|\n",
      "|2020-01-01 00:00:00|  37|            175.67|                   6|161.60999999999999|                    7|\n",
      "|2020-01-01 00:00:00|  38| 98.78999999999999|                   2|              NULL|                 NULL|\n",
      "|2020-01-01 00:00:00|  40|168.97999999999996|                   8|             89.97|                    5|\n",
      "|2020-01-01 00:00:00|  41|1363.9599999999987|                  84|1256.5299999999997|                   80|\n",
      "|2020-01-01 00:00:00|  45|              NULL|                NULL| 732.4800000000002|                   42|\n",
      "|2020-01-01 00:00:00|  47|              13.3|                   1|               8.3|                    1|\n",
      "|2020-01-01 00:00:00|  48|              NULL|                NULL|10773.360000000022|                  455|\n",
      "|2020-01-01 00:00:00|  51|              17.8|                   2|              31.0|                    1|\n",
      "|2020-01-01 00:00:00|  60|            160.04|                   6|57.620000000000005|                    2|\n",
      "|2020-01-01 00:00:00|  61| 526.7099999999999|                  17|            146.64|                    3|\n",
      "|2020-01-01 00:00:00|  62|             15.95|                   1|             61.43|                    1|\n",
      "|2020-01-01 00:00:00|  63|              51.9|                   2|              70.8|                    1|\n",
      "+-------------------+----+------------------+--------------------+------------------+---------------------+\n",
      "only showing top 20 rows\n",
      "\n"
     ]
    },
    {
     "name": "stderr",
     "output_type": "stream",
     "text": [
      "                                                                                \r"
     ]
    }
   ],
   "source": [
    "df_join.show()"
   ]
  },
  {
   "cell_type": "code",
   "execution_count": 27,
   "id": "a560ff2b-9398-479e-8b1d-a945b7293fc6",
   "metadata": {},
   "outputs": [
    {
     "name": "stderr",
     "output_type": "stream",
     "text": [
      "                                                                                \r"
     ]
    }
   ],
   "source": [
    "df_join.write.parquet('data/report/revenue/total', mode='overwrite')"
   ]
  },
  {
   "cell_type": "markdown",
   "id": "6b5ef3f2-3a65-4449-bba0-e32db7786c36",
   "metadata": {},
   "source": [
    "## Joining one large and one small table\n",
    "- No data shuffling"
   ]
  },
  {
   "cell_type": "code",
   "execution_count": 29,
   "id": "1330c7fa-2ede-491e-979d-8de66b7595e4",
   "metadata": {},
   "outputs": [],
   "source": [
    "df_join = spark.read.parquet('data/report/revenue/total')"
   ]
  },
  {
   "cell_type": "code",
   "execution_count": 30,
   "id": "eb397a8c-f041-40e5-afbf-649eb3fe4fd1",
   "metadata": {},
   "outputs": [
    {
     "data": {
      "text/plain": [
       "DataFrame[hour: timestamp, zone: int, green_amount: double, green_number_records: bigint, yellow_amount: double, yellow_number_records: bigint]"
      ]
     },
     "execution_count": 30,
     "metadata": {},
     "output_type": "execute_result"
    }
   ],
   "source": [
    "df_join"
   ]
  },
  {
   "cell_type": "code",
   "execution_count": 31,
   "id": "90dac864-b200-4e48-b0b1-e893b13f2c37",
   "metadata": {},
   "outputs": [],
   "source": [
    "df_zones = spark.read.parquet('zones/')"
   ]
  },
  {
   "cell_type": "code",
   "execution_count": 35,
   "id": "3e7f294e-7cd3-49de-b8cd-0495e9747f92",
   "metadata": {},
   "outputs": [
    {
     "name": "stdout",
     "output_type": "stream",
     "text": [
      "+----------+-------------+--------------------+------------+\n",
      "|LocationID|      Borough|                Zone|service_zone|\n",
      "+----------+-------------+--------------------+------------+\n",
      "|         1|          EWR|      Newark Airport|         EWR|\n",
      "|         2|       Queens|         Jamaica Bay|   Boro Zone|\n",
      "|         3|        Bronx|Allerton/Pelham G...|   Boro Zone|\n",
      "|         4|    Manhattan|       Alphabet City| Yellow Zone|\n",
      "|         5|Staten Island|       Arden Heights|   Boro Zone|\n",
      "|         6|Staten Island|Arrochar/Fort Wad...|   Boro Zone|\n",
      "|         7|       Queens|             Astoria|   Boro Zone|\n",
      "|         8|       Queens|        Astoria Park|   Boro Zone|\n",
      "|         9|       Queens|          Auburndale|   Boro Zone|\n",
      "|        10|       Queens|        Baisley Park|   Boro Zone|\n",
      "|        11|     Brooklyn|          Bath Beach|   Boro Zone|\n",
      "|        12|    Manhattan|        Battery Park| Yellow Zone|\n",
      "|        13|    Manhattan|   Battery Park City| Yellow Zone|\n",
      "|        14|     Brooklyn|           Bay Ridge|   Boro Zone|\n",
      "|        15|       Queens|Bay Terrace/Fort ...|   Boro Zone|\n",
      "|        16|       Queens|             Bayside|   Boro Zone|\n",
      "|        17|     Brooklyn|             Bedford|   Boro Zone|\n",
      "|        18|        Bronx|        Bedford Park|   Boro Zone|\n",
      "|        19|       Queens|           Bellerose|   Boro Zone|\n",
      "|        20|        Bronx|             Belmont|   Boro Zone|\n",
      "+----------+-------------+--------------------+------------+\n",
      "only showing top 20 rows\n",
      "\n"
     ]
    }
   ],
   "source": [
    "df_zones.show()"
   ]
  },
  {
   "cell_type": "code",
   "execution_count": 39,
   "id": "568cfd7d-8efe-466d-82be-2ce7cadcb276",
   "metadata": {},
   "outputs": [],
   "source": [
    "df_result = df_join.join(df_zones, df_join.zone == df_zones.LocationID)"
   ]
  },
  {
   "cell_type": "code",
   "execution_count": 40,
   "id": "d0150384-d24f-4f01-9dee-465283399bd9",
   "metadata": {},
   "outputs": [
    {
     "name": "stdout",
     "output_type": "stream",
     "text": [
      "+-------------------+----+------------------+--------------------+------------------+---------------------+----------+---------+--------------------+------------+\n",
      "|               hour|zone|      green_amount|green_number_records|     yellow_amount|yellow_number_records|LocationID|  Borough|                Zone|service_zone|\n",
      "+-------------------+----+------------------+--------------------+------------------+---------------------+----------+---------+--------------------+------------+\n",
      "|2020-01-01 00:00:00|   3|              NULL|                NULL|              25.0|                    1|         3|    Bronx|Allerton/Pelham G...|   Boro Zone|\n",
      "|2020-01-01 00:00:00|   4|              NULL|                NULL|1004.3000000000002|                   57|         4|Manhattan|       Alphabet City| Yellow Zone|\n",
      "|2020-01-01 00:00:00|   7| 769.7299999999996|                  45| 455.1700000000001|                   38|         7|   Queens|             Astoria|   Boro Zone|\n",
      "|2020-01-01 00:00:00|  12|              NULL|                NULL|             107.0|                    6|        12|Manhattan|        Battery Park| Yellow Zone|\n",
      "|2020-01-01 00:00:00|  13|              NULL|                NULL|1214.8000000000002|                   56|        13|Manhattan|   Battery Park City| Yellow Zone|\n",
      "|2020-01-01 00:00:00|  18|               7.8|                   1|               5.8|                    1|        18|    Bronx|        Bedford Park|   Boro Zone|\n",
      "|2020-01-01 00:00:00|  29|              61.3|                   1|              NULL|                 NULL|        29| Brooklyn|      Brighton Beach|   Boro Zone|\n",
      "|2020-01-01 00:00:00|  36|295.34000000000003|                  11|            109.17|                    3|        36| Brooklyn|      Bushwick North|   Boro Zone|\n",
      "|2020-01-01 00:00:00|  37|            175.67|                   6|161.60999999999999|                    7|        37| Brooklyn|      Bushwick South|   Boro Zone|\n",
      "|2020-01-01 00:00:00|  38| 98.78999999999999|                   2|              NULL|                 NULL|        38|   Queens|     Cambria Heights|   Boro Zone|\n",
      "|2020-01-01 00:00:00|  40|168.97999999999996|                   8|             89.97|                    5|        40| Brooklyn|     Carroll Gardens|   Boro Zone|\n",
      "|2020-01-01 00:00:00|  41|1363.9599999999987|                  84|1256.5299999999997|                   80|        41|Manhattan|      Central Harlem|   Boro Zone|\n",
      "|2020-01-01 00:00:00|  45|              NULL|                NULL| 732.4800000000002|                   42|        45|Manhattan|           Chinatown| Yellow Zone|\n",
      "|2020-01-01 00:00:00|  47|              13.3|                   1|               8.3|                    1|        47|    Bronx|  Claremont/Bathgate|   Boro Zone|\n",
      "|2020-01-01 00:00:00|  48|              NULL|                NULL|10773.360000000022|                  455|        48|Manhattan|        Clinton East| Yellow Zone|\n",
      "|2020-01-01 00:00:00|  51|              17.8|                   2|              31.0|                    1|        51|    Bronx|          Co-Op City|   Boro Zone|\n",
      "|2020-01-01 00:00:00|  60|            160.04|                   6|57.620000000000005|                    2|        60|    Bronx|   Crotona Park East|   Boro Zone|\n",
      "|2020-01-01 00:00:00|  61| 526.7099999999999|                  17|            146.64|                    3|        61| Brooklyn| Crown Heights North|   Boro Zone|\n",
      "|2020-01-01 00:00:00|  62|             15.95|                   1|             61.43|                    1|        62| Brooklyn| Crown Heights South|   Boro Zone|\n",
      "|2020-01-01 00:00:00|  63|              51.9|                   2|              70.8|                    1|        63| Brooklyn|       Cypress Hills|   Boro Zone|\n",
      "+-------------------+----+------------------+--------------------+------------------+---------------------+----------+---------+--------------------+------------+\n",
      "only showing top 20 rows\n",
      "\n"
     ]
    }
   ],
   "source": [
    "df_result.show()"
   ]
  },
  {
   "cell_type": "code",
   "execution_count": 43,
   "id": "0abe8474-0520-407a-972f-6c8bd551c727",
   "metadata": {},
   "outputs": [],
   "source": [
    "df_result = df_result.drop('LocationID', 'zone')"
   ]
  },
  {
   "cell_type": "code",
   "execution_count": 44,
   "id": "fe5a1e70-2f13-439e-860a-da855fc7989c",
   "metadata": {},
   "outputs": [
    {
     "name": "stdout",
     "output_type": "stream",
     "text": [
      "+-------------------+------------------+--------------------+------------------+---------------------+---------+------------+\n",
      "|               hour|      green_amount|green_number_records|     yellow_amount|yellow_number_records|  Borough|service_zone|\n",
      "+-------------------+------------------+--------------------+------------------+---------------------+---------+------------+\n",
      "|2020-01-01 00:00:00|              NULL|                NULL|              25.0|                    1|    Bronx|   Boro Zone|\n",
      "|2020-01-01 00:00:00|              NULL|                NULL|1004.3000000000002|                   57|Manhattan| Yellow Zone|\n",
      "|2020-01-01 00:00:00| 769.7299999999996|                  45| 455.1700000000001|                   38|   Queens|   Boro Zone|\n",
      "|2020-01-01 00:00:00|              NULL|                NULL|             107.0|                    6|Manhattan| Yellow Zone|\n",
      "|2020-01-01 00:00:00|              NULL|                NULL|1214.8000000000002|                   56|Manhattan| Yellow Zone|\n",
      "|2020-01-01 00:00:00|               7.8|                   1|               5.8|                    1|    Bronx|   Boro Zone|\n",
      "|2020-01-01 00:00:00|              61.3|                   1|              NULL|                 NULL| Brooklyn|   Boro Zone|\n",
      "|2020-01-01 00:00:00|295.34000000000003|                  11|            109.17|                    3| Brooklyn|   Boro Zone|\n",
      "|2020-01-01 00:00:00|            175.67|                   6|161.60999999999999|                    7| Brooklyn|   Boro Zone|\n",
      "|2020-01-01 00:00:00| 98.78999999999999|                   2|              NULL|                 NULL|   Queens|   Boro Zone|\n",
      "|2020-01-01 00:00:00|168.97999999999996|                   8|             89.97|                    5| Brooklyn|   Boro Zone|\n",
      "|2020-01-01 00:00:00|1363.9599999999987|                  84|1256.5299999999997|                   80|Manhattan|   Boro Zone|\n",
      "|2020-01-01 00:00:00|              NULL|                NULL| 732.4800000000002|                   42|Manhattan| Yellow Zone|\n",
      "|2020-01-01 00:00:00|              13.3|                   1|               8.3|                    1|    Bronx|   Boro Zone|\n",
      "|2020-01-01 00:00:00|              NULL|                NULL|10773.360000000022|                  455|Manhattan| Yellow Zone|\n",
      "|2020-01-01 00:00:00|              17.8|                   2|              31.0|                    1|    Bronx|   Boro Zone|\n",
      "|2020-01-01 00:00:00|            160.04|                   6|57.620000000000005|                    2|    Bronx|   Boro Zone|\n",
      "|2020-01-01 00:00:00| 526.7099999999999|                  17|            146.64|                    3| Brooklyn|   Boro Zone|\n",
      "|2020-01-01 00:00:00|             15.95|                   1|             61.43|                    1| Brooklyn|   Boro Zone|\n",
      "|2020-01-01 00:00:00|              51.9|                   2|              70.8|                    1| Brooklyn|   Boro Zone|\n",
      "+-------------------+------------------+--------------------+------------------+---------------------+---------+------------+\n",
      "only showing top 20 rows\n",
      "\n"
     ]
    }
   ],
   "source": [
    "df_result.show()"
   ]
  },
  {
   "cell_type": "code",
   "execution_count": 45,
   "id": "7c175e28-36c3-4463-b4e3-d455598c466a",
   "metadata": {},
   "outputs": [
    {
     "name": "stderr",
     "output_type": "stream",
     "text": [
      "                                                                                \r"
     ]
    }
   ],
   "source": [
    "df_result.drop('LocationID', 'zone').write.parquet('tmp/revenue-zones', mode='overwrite')"
   ]
  },
  {
   "cell_type": "code",
   "execution_count": 48,
   "id": "80ccc5fa-a524-4d91-8097-48d1fc5424ec",
   "metadata": {},
   "outputs": [],
   "source": [
    "final_report = spark.read.parquet('tmp/revenue-zones/')"
   ]
  },
  {
   "cell_type": "code",
   "execution_count": 49,
   "id": "b13e2b53-94be-4fe6-b382-8ecef7767d27",
   "metadata": {},
   "outputs": [
    {
     "name": "stdout",
     "output_type": "stream",
     "text": [
      "+-------------------+------------------+--------------------+------------------+---------------------+---------+------------+\n",
      "|               hour|      green_amount|green_number_records|     yellow_amount|yellow_number_records|  Borough|service_zone|\n",
      "+-------------------+------------------+--------------------+------------------+---------------------+---------+------------+\n",
      "|2020-01-01 00:00:00|              NULL|                NULL|              25.0|                    1|    Bronx|   Boro Zone|\n",
      "|2020-01-01 00:00:00|              NULL|                NULL|1004.3000000000002|                   57|Manhattan| Yellow Zone|\n",
      "|2020-01-01 00:00:00| 769.7299999999996|                  45| 455.1700000000001|                   38|   Queens|   Boro Zone|\n",
      "|2020-01-01 00:00:00|              NULL|                NULL|             107.0|                    6|Manhattan| Yellow Zone|\n",
      "|2020-01-01 00:00:00|              NULL|                NULL|1214.8000000000002|                   56|Manhattan| Yellow Zone|\n",
      "|2020-01-01 00:00:00|               7.8|                   1|               5.8|                    1|    Bronx|   Boro Zone|\n",
      "|2020-01-01 00:00:00|              61.3|                   1|              NULL|                 NULL| Brooklyn|   Boro Zone|\n",
      "|2020-01-01 00:00:00|295.34000000000003|                  11|            109.17|                    3| Brooklyn|   Boro Zone|\n",
      "|2020-01-01 00:00:00|            175.67|                   6|161.60999999999999|                    7| Brooklyn|   Boro Zone|\n",
      "|2020-01-01 00:00:00| 98.78999999999999|                   2|              NULL|                 NULL|   Queens|   Boro Zone|\n",
      "|2020-01-01 00:00:00|168.97999999999996|                   8|             89.97|                    5| Brooklyn|   Boro Zone|\n",
      "|2020-01-01 00:00:00|1363.9599999999987|                  84|1256.5299999999997|                   80|Manhattan|   Boro Zone|\n",
      "|2020-01-01 00:00:00|              NULL|                NULL| 732.4800000000002|                   42|Manhattan| Yellow Zone|\n",
      "|2020-01-01 00:00:00|              13.3|                   1|               8.3|                    1|    Bronx|   Boro Zone|\n",
      "|2020-01-01 00:00:00|              NULL|                NULL|10773.360000000022|                  455|Manhattan| Yellow Zone|\n",
      "|2020-01-01 00:00:00|              17.8|                   2|              31.0|                    1|    Bronx|   Boro Zone|\n",
      "|2020-01-01 00:00:00|            160.04|                   6|57.620000000000005|                    2|    Bronx|   Boro Zone|\n",
      "|2020-01-01 00:00:00| 526.7099999999999|                  17|            146.64|                    3| Brooklyn|   Boro Zone|\n",
      "|2020-01-01 00:00:00|             15.95|                   1|             61.43|                    1| Brooklyn|   Boro Zone|\n",
      "|2020-01-01 00:00:00|              51.9|                   2|              70.8|                    1| Brooklyn|   Boro Zone|\n",
      "+-------------------+------------------+--------------------+------------------+---------------------+---------+------------+\n",
      "only showing top 20 rows\n",
      "\n"
     ]
    }
   ],
   "source": [
    "final_report.show()"
   ]
  },
  {
   "cell_type": "code",
   "execution_count": null,
   "id": "1a5cacc9-5e34-41bc-a9d3-97e753c51564",
   "metadata": {},
   "outputs": [],
   "source": []
  }
 ],
 "metadata": {
  "kernelspec": {
   "display_name": "Python 3 (ipykernel)",
   "language": "python",
   "name": "python3"
  },
  "language_info": {
   "codemirror_mode": {
    "name": "ipython",
    "version": 3
   },
   "file_extension": ".py",
   "mimetype": "text/x-python",
   "name": "python",
   "nbconvert_exporter": "python",
   "pygments_lexer": "ipython3",
   "version": "3.10.13"
  }
 },
 "nbformat": 4,
 "nbformat_minor": 5
}
