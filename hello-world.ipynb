{
 "cells": [
  {
   "cell_type": "code",
   "execution_count": 1,
   "id": "0578785b-7919-4d12-9045-d2fb8ce5c8a8",
   "metadata": {},
   "outputs": [
    {
     "name": "stdout",
     "output_type": "stream",
     "text": [
      "Hello world in codespaces!\n"
     ]
    }
   ],
   "source": [
    "print('Hello world in codespaces!')"
   ]
  },
  {
   "cell_type": "code",
   "execution_count": null,
   "id": "6f013a07-f95f-4de1-a76c-8f21c6dfbf45",
   "metadata": {},
   "outputs": [],
   "source": []
  }
 ],
 "metadata": {
  "kernelspec": {
   "display_name": "Python 3 (ipykernel)",
   "language": "python",
   "name": "python3"
  },
  "language_info": {
   "codemirror_mode": {
    "name": "ipython",
    "version": 3
   },
   "file_extension": ".py",
   "mimetype": "text/x-python",
   "name": "python",
   "nbconvert_exporter": "python",
   "pygments_lexer": "ipython3",
   "version": "3.10.13"
  }
 },
 "nbformat": 4,
 "nbformat_minor": 5
}
